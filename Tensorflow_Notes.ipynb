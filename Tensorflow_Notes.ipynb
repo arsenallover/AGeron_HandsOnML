{
 "metadata": {
  "language_info": {
   "codemirror_mode": {
    "name": "ipython",
    "version": 3
   },
   "file_extension": ".py",
   "mimetype": "text/x-python",
   "name": "python",
   "nbconvert_exporter": "python",
   "pygments_lexer": "ipython3",
   "version": "3.7.9-final"
  },
  "orig_nbformat": 2,
  "kernelspec": {
   "name": "Python 3.7.9 64-bit ('tf2.0': conda)",
   "display_name": "Python 3.7.9 64-bit ('tf2.0': conda)",
   "metadata": {
    "interpreter": {
     "hash": "22b3a9e511cc71c7e8c0c199ed3ba2f3f697f01009167188cfc9ddfa1a3c5b27"
    }
   }
  }
 },
 "nbformat": 4,
 "nbformat_minor": 2,
 "cells": [
  {
   "source": [
    "## Dtypes\n",
    "\n",
    "* Tf default prefers float32 as for NN computations, 32 precision is enough and computations are faster with 32 compared to 64\n",
    "\n",
    "* it is advisable to set the default float to 32\n",
    "\n",
    "* We cant do math ops when Dtypes arent matching. Use cast to change the variable Dtypes"
   ],
   "cell_type": "markdown",
   "metadata": {}
  },
  {
   "source": [
    "### Variables\n",
    "\n",
    "* Tf.Tensors are immutable -> cant be used for NN weights (u cant update them during training)\n",
    "\n",
    "* Use tf.variable instead & use \"assign\" to update the contents"
   ],
   "cell_type": "markdown",
   "metadata": {}
  },
  {
   "cell_type": "code",
   "execution_count": 1,
   "metadata": {},
   "outputs": [],
   "source": [
    "import tensorflow as tf"
   ]
  },
  {
   "cell_type": "code",
   "execution_count": null,
   "metadata": {},
   "outputs": [],
   "source": []
  }
 ]
}