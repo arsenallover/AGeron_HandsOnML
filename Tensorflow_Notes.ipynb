{
 "metadata": {
  "language_info": {
   "codemirror_mode": {
    "name": "ipython",
    "version": 3
   },
   "file_extension": ".py",
   "mimetype": "text/x-python",
   "name": "python",
   "nbconvert_exporter": "python",
   "pygments_lexer": "ipython3",
   "version": 3
  },
  "orig_nbformat": 2
 },
 "nbformat": 4,
 "nbformat_minor": 2,
 "cells": [
  {
   "source": [
    "## Dtypes\n",
    "\n",
    "* Tf default prefers float32 as for NN computations, 32 precision is enough and computations are faster with 32 compared to 64\n",
    "\n",
    "* it is advisable to set the default float to 32\n",
    "\n",
    "* We cant do math ops when Dtypes arent matching. Use cast to change the variable Dtypes"
   ],
   "cell_type": "markdown",
   "metadata": {}
  },
  {
   "source": [
    "### Variables\n",
    "\n",
    "* Tf.Tensors are immutable -> cant be used for NN weights (u cant update them during training)\n",
    "\n",
    "* Use tf.variable instead & use \"assign\" to update the contents"
   ],
   "cell_type": "markdown",
   "metadata": {}
  }
 ]
}