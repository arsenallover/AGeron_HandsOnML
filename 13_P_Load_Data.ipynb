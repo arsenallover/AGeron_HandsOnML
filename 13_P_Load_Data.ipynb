{
 "metadata": {
  "language_info": {
   "codemirror_mode": {
    "name": "ipython",
    "version": 3
   },
   "file_extension": ".py",
   "mimetype": "text/x-python",
   "name": "python",
   "nbconvert_exporter": "python",
   "pygments_lexer": "ipython3",
   "version": "3.7.9-final"
  },
  "orig_nbformat": 2,
  "kernelspec": {
   "name": "Python 3.7.9 64-bit ('tf2.0': conda)",
   "display_name": "Python 3.7.9 64-bit ('tf2.0': conda)",
   "metadata": {
    "interpreter": {
     "hash": "22b3a9e511cc71c7e8c0c199ed3ba2f3f697f01009167188cfc9ddfa1a3c5b27"
    }
   }
  }
 },
 "nbformat": 4,
 "nbformat_minor": 2,
 "cells": [
  {
   "cell_type": "code",
   "execution_count": 1,
   "metadata": {},
   "outputs": [],
   "source": [
    "import tensorflow as tf"
   ]
  },
  {
   "source": [
    "## From Tensor Slices"
   ],
   "cell_type": "markdown",
   "metadata": {}
  },
  {
   "cell_type": "code",
   "execution_count": 10,
   "metadata": {},
   "outputs": [],
   "source": [
    "X = tf.Variable(tf.range(10))\n",
    "dataset = tf.data.Dataset.from_tensor_slices(X)"
   ]
  },
  {
   "cell_type": "code",
   "execution_count": 11,
   "metadata": {
    "tags": []
   },
   "outputs": [
    {
     "output_type": "stream",
     "name": "stdout",
     "text": "tf.Tensor(0, shape=(), dtype=int32)\ntf.Tensor(1, shape=(), dtype=int32)\ntf.Tensor(2, shape=(), dtype=int32)\ntf.Tensor(3, shape=(), dtype=int32)\ntf.Tensor(4, shape=(), dtype=int32)\ntf.Tensor(5, shape=(), dtype=int32)\ntf.Tensor(6, shape=(), dtype=int32)\ntf.Tensor(7, shape=(), dtype=int32)\ntf.Tensor(8, shape=(), dtype=int32)\ntf.Tensor(9, shape=(), dtype=int32)\n"
    }
   ],
   "source": [
    "for item in dataset:\n",
    "    print(item)"
   ]
  },
  {
   "cell_type": "code",
   "execution_count": 12,
   "metadata": {
    "tags": []
   },
   "outputs": [
    {
     "output_type": "stream",
     "name": "stdout",
     "text": "tf.Tensor(0, shape=(), dtype=int32)\ntf.Tensor(1, shape=(), dtype=int32)\ntf.Tensor(4, shape=(), dtype=int32)\ntf.Tensor(9, shape=(), dtype=int32)\ntf.Tensor(16, shape=(), dtype=int32)\ntf.Tensor(25, shape=(), dtype=int32)\ntf.Tensor(36, shape=(), dtype=int32)\ntf.Tensor(49, shape=(), dtype=int32)\ntf.Tensor(64, shape=(), dtype=int32)\ntf.Tensor(81, shape=(), dtype=int32)\n"
    }
   ],
   "source": [
    "dataset = dataset.map(lambda x : x**2)\n",
    "for item in dataset:\n",
    "    print(item)"
   ]
  },
  {
   "cell_type": "code",
   "execution_count": 13,
   "metadata": {
    "tags": []
   },
   "outputs": [
    {
     "output_type": "stream",
     "name": "stdout",
     "text": "tf.Tensor(0, shape=(), dtype=int32)\ntf.Tensor(4, shape=(), dtype=int32)\ntf.Tensor(16, shape=(), dtype=int32)\ntf.Tensor(36, shape=(), dtype=int32)\ntf.Tensor(64, shape=(), dtype=int32)\n"
    }
   ],
   "source": [
    "dataset = dataset.filter(lambda x : x % 2 == 0)\n",
    "for item in dataset:\n",
    "    print(item)"
   ]
  },
  {
   "source": [
    "## Categorical Data\n",
    "\n",
    "### One-hot Vs Embedding\n",
    "\n",
    "As a rule of thumb, if the number of categories is lower than 10,\n",
    "then one-hot encoding is generally the way to go (but your mileage\n",
    "may vary!). If the number of categories is greater than 50 (which is\n",
    "often the case when you use hash buckets), then embeddings are\n",
    "usually preferable. In between 10 and 50 categories, you may want\n",
    "to experiment with both options and see which one works best for\n",
    "your use case.\n",
    "\n",
    "### One-hot"
   ],
   "cell_type": "markdown",
   "metadata": {}
  },
  {
   "cell_type": "code",
   "execution_count": 28,
   "metadata": {},
   "outputs": [],
   "source": [
    "from sklearn.datasets import fetch_california_housing\n",
    "import os\n",
    "import tarfile\n",
    "import urllib\n",
    "\n",
    "DOWNLOAD_ROOT = \"https://raw.githubusercontent.com/ageron/handson-ml2/master/\"\n",
    "HOUSING_PATH = os.path.join(\"datasets\", \"housing\")\n",
    "HOUSING_URL = DOWNLOAD_ROOT + \"datasets/housing/housing.tgz\"\n",
    "def fetch_housing_data(housing_url=HOUSING_URL, housing_path=HOUSING_PATH):\n",
    "    os.makedirs(housing_path, exist_ok=True)\n",
    "    tgz_path = os.path.join(housing_path, \"housing.tgz\")\n",
    "    urllib.request.urlretrieve(housing_url, tgz_path)\n",
    "    housing_tgz = tarfile.open(tgz_path)\n",
    "    housing_tgz.extractall(path=housing_path)\n",
    "    housing_tgz.close()\n",
    "fetch_housing_data()\n",
    "import pandas as pd\n",
    "def load_housing_data(housing_path=HOUSING_PATH):\n",
    "    csv_path = os.path.join(housing_path, \"housing.csv\")\n",
    "    return pd.read_csv(csv_path)"
   ]
  },
  {
   "cell_type": "code",
   "execution_count": 33,
   "metadata": {},
   "outputs": [
    {
     "output_type": "execute_result",
     "data": {
      "text/plain": "   longitude  latitude  housing_median_age  total_rooms  total_bedrooms  \\\n0    -122.23     37.88                41.0        880.0           129.0   \n1    -122.22     37.86                21.0       7099.0          1106.0   \n\n   population  households  median_income  median_house_value ocean_proximity  \n0       322.0       126.0         8.3252            452600.0        NEAR BAY  \n1      2401.0      1138.0         8.3014            358500.0        NEAR BAY  ",
      "text/html": "<div>\n<style scoped>\n    .dataframe tbody tr th:only-of-type {\n        vertical-align: middle;\n    }\n\n    .dataframe tbody tr th {\n        vertical-align: top;\n    }\n\n    .dataframe thead th {\n        text-align: right;\n    }\n</style>\n<table border=\"1\" class=\"dataframe\">\n  <thead>\n    <tr style=\"text-align: right;\">\n      <th></th>\n      <th>longitude</th>\n      <th>latitude</th>\n      <th>housing_median_age</th>\n      <th>total_rooms</th>\n      <th>total_bedrooms</th>\n      <th>population</th>\n      <th>households</th>\n      <th>median_income</th>\n      <th>median_house_value</th>\n      <th>ocean_proximity</th>\n    </tr>\n  </thead>\n  <tbody>\n    <tr>\n      <th>0</th>\n      <td>-122.23</td>\n      <td>37.88</td>\n      <td>41.0</td>\n      <td>880.0</td>\n      <td>129.0</td>\n      <td>322.0</td>\n      <td>126.0</td>\n      <td>8.3252</td>\n      <td>452600.0</td>\n      <td>NEAR BAY</td>\n    </tr>\n    <tr>\n      <th>1</th>\n      <td>-122.22</td>\n      <td>37.86</td>\n      <td>21.0</td>\n      <td>7099.0</td>\n      <td>1106.0</td>\n      <td>2401.0</td>\n      <td>1138.0</td>\n      <td>8.3014</td>\n      <td>358500.0</td>\n      <td>NEAR BAY</td>\n    </tr>\n  </tbody>\n</table>\n</div>"
     },
     "metadata": {},
     "execution_count": 33
    }
   ],
   "source": [
    "df = load_housing_data()\n",
    "df.head(2)"
   ]
  },
  {
   "cell_type": "code",
   "execution_count": 38,
   "metadata": {},
   "outputs": [],
   "source": [
    "## Initializing table\n",
    "ocean_list = list(df['ocean_proximity'].unique())\n",
    "indices = tf.range(len(ocean_list), dtype = tf.int64)\n",
    "table_init = tf.lookup.KeyValueTensorInitializer(ocean_list, indices)\n",
    "num_oov = 2\n",
    "table = tf.lookup.StaticVocabularyTable(table_init, num_oov)"
   ]
  },
  {
   "cell_type": "code",
   "execution_count": 50,
   "metadata": {
    "tags": []
   },
   "outputs": [
    {
     "output_type": "stream",
     "name": "stdout",
     "text": "tf.Tensor([b'INLAND' b'ISLAND' b'NEAR BAY' b'NEAR BAY'], shape=(4,), dtype=string)\n"
    },
    {
     "output_type": "execute_result",
     "data": {
      "text/plain": "<tf.Tensor: id=278, shape=(4,), dtype=int64, numpy=array([2, 4, 0, 0], dtype=int64)>"
     },
     "metadata": {},
     "execution_count": 50
    }
   ],
   "source": [
    "## one-hot\n",
    "random_categories = tf.constant([random.sample(ocean_list, 1)[0] for i in range(4)])\n",
    "print(random_categories)\n",
    "cat_indicies = table.lookup(random_categories)\n",
    "cat_indicies"
   ]
  },
  {
   "cell_type": "code",
   "execution_count": 52,
   "metadata": {},
   "outputs": [
    {
     "output_type": "execute_result",
     "data": {
      "text/plain": "<tf.Tensor: id=282, shape=(4, 6), dtype=float32, numpy=\narray([[0., 0., 1., 0., 0., 0.],\n       [0., 0., 0., 0., 1., 0.],\n       [1., 0., 0., 0., 0., 0.],\n       [1., 0., 0., 0., 0., 0.]], dtype=float32)>"
     },
     "metadata": {},
     "execution_count": 52
    }
   ],
   "source": [
    "tf.one_hot(cat_indicies, depth = len(ocean_list) + num_oov)"
   ]
  },
  {
   "source": [
    "### Embedding"
   ],
   "cell_type": "markdown",
   "metadata": {}
  },
  {
   "cell_type": "code",
   "execution_count": 55,
   "metadata": {},
   "outputs": [
    {
     "output_type": "execute_result",
     "data": {
      "text/plain": "<tf.Variable 'Variable:0' shape=(7, 2) dtype=float32, numpy=\narray([[0.524539  , 0.40950465],\n       [0.91189754, 0.17248845],\n       [0.8579438 , 0.7456107 ],\n       [0.12113166, 0.8425473 ],\n       [0.15396714, 0.22420442],\n       [0.16823995, 0.05178714],\n       [0.26820529, 0.7380533 ]], dtype=float32)>"
     },
     "metadata": {},
     "execution_count": 55
    }
   ],
   "source": [
    "embedding_dim = 2\n",
    "embed_init = tf.random.uniform(shape = [(len(ocean_list) + num_oov), embedding_dim])\n",
    "embed_matrix = tf.Variable(embed_init)\n",
    "embed_matrix"
   ]
  },
  {
   "cell_type": "code",
   "execution_count": 57,
   "metadata": {
    "tags": []
   },
   "outputs": [
    {
     "output_type": "stream",
     "name": "stdout",
     "text": "tf.Tensor([b'INLAND' b'ISLAND' b'NEAR BAY' b'NEAR BAY'], shape=(4,), dtype=string)\n"
    },
    {
     "output_type": "execute_result",
     "data": {
      "text/plain": "<tf.Tensor: id=311, shape=(4, 2), dtype=float32, numpy=\narray([[0.8579438 , 0.7456107 ],\n       [0.15396714, 0.22420442],\n       [0.524539  , 0.40950465],\n       [0.524539  , 0.40950465]], dtype=float32)>"
     },
     "metadata": {},
     "execution_count": 57
    }
   ],
   "source": [
    "print(random_categories)\n",
    "tf.nn.embedding_lookup(embed_matrix, cat_indicies)"
   ]
  },
  {
   "cell_type": "code",
   "execution_count": 58,
   "metadata": {},
   "outputs": [
    {
     "output_type": "execute_result",
     "data": {
      "text/plain": "<tf.Tensor: id=325, shape=(4, 2), dtype=float32, numpy=\narray([[ 0.01217709,  0.01941189],\n       [ 0.0390201 , -0.04843371],\n       [ 0.02771847, -0.041774  ],\n       [ 0.02771847, -0.041774  ]], dtype=float32)>"
     },
     "metadata": {},
     "execution_count": 58
    }
   ],
   "source": [
    "## Keras layer : random_init (but witholds the cat_in)\n",
    "embed_layer = tf.keras.layers.Embedding(input_dim=len(ocean_list)+num_oov, output_dim=embedding_dim)\n",
    "embed_layer(cat_indicies)"
   ]
  }
 ]
}