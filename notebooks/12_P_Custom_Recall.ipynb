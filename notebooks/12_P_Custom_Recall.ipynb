{
 "metadata": {
  "language_info": {
   "codemirror_mode": {
    "name": "ipython",
    "version": 3
   },
   "file_extension": ".py",
   "mimetype": "text/x-python",
   "name": "python",
   "nbconvert_exporter": "python",
   "pygments_lexer": "ipython3",
   "version": "3.7.9-final"
  },
  "orig_nbformat": 2,
  "kernelspec": {
   "name": "Python 3.7.9 64-bit ('tf2.0': conda)",
   "display_name": "Python 3.7.9 64-bit ('tf2.0': conda)",
   "metadata": {
    "interpreter": {
     "hash": "22b3a9e511cc71c7e8c0c199ed3ba2f3f697f01009167188cfc9ddfa1a3c5b27"
    }
   }
  }
 },
 "nbformat": 4,
 "nbformat_minor": 2,
 "cells": [
  {
   "cell_type": "code",
   "execution_count": 1,
   "metadata": {},
   "outputs": [],
   "source": [
    "import tensorflow as tf\n",
    "from sklearn.datasets import load_iris\n",
    "from sklearn.model_selection import train_test_split\n",
    "from tensorflow.keras.metrics import Precision\n",
    "import numpy as np"
   ]
  },
  {
   "cell_type": "code",
   "execution_count": 2,
   "metadata": {},
   "outputs": [],
   "source": [
    "tf.keras.backend.set_floatx('float32')\n",
    "iris = load_iris()\n",
    "X, y = iris[\"data\"], iris[\"target\"]"
   ]
  },
  {
   "cell_type": "code",
   "execution_count": 3,
   "metadata": {},
   "outputs": [],
   "source": [
    "xtrain, xtest, ytrain, ytest = train_test_split(X, y, test_size = 0.2)"
   ]
  },
  {
   "cell_type": "code",
   "execution_count": 4,
   "metadata": {},
   "outputs": [],
   "source": [
    "class RecallMetric(tf.keras.metrics.Metric):\n",
    "    def __init__(self, class_value = 2, **kwargs):\n",
    "        super().__init__(**kwargs) \n",
    "        self.class_value = class_value\n",
    "\n",
    "    def confusion_matrix(self, y_true, y_pred):\n",
    "        self.y_pred = tf.math.argmax(y_pred, axis =1)\n",
    "        self.y_true = tf.cast((y_true == self.class_value), dtype=tf.int32)\n",
    "        self.y_pred = tf.cast((self.y_pred == self.class_value), dtype=tf.int32)\n",
    "        self.TP = tf.math.count_nonzero(self.y_pred * self.y_true)\n",
    "        self.TN = tf.math.count_nonzero((self.y_pred - 1) * (self.y_true - 1))\n",
    "        self.FP = tf.math.count_nonzero(self.y_pred * (self.y_true - 1))\n",
    "        self.FN = tf.math.count_nonzero((self.y_pred - 1) * self.y_true)\n",
    "        \n",
    "    def update_state(self, y_true, y_pred, sample_weight=None):\n",
    "        self.confusion_matrix(y_true, y_pred)\n",
    "\n",
    "    def result(self):\n",
    "        return self.TP/(self.TP + self.FN)\n",
    "\n",
    "    def get_config(self):\n",
    "        base_config = super().get_config()\n",
    "        return {**base_config, \"threshold\": self.threshold}"
   ]
  },
  {
   "cell_type": "code",
   "execution_count": 5,
   "metadata": {
    "tags": []
   },
   "outputs": [
    {
     "output_type": "stream",
     "name": "stdout",
     "text": "Train on 120 samples\nEpoch 1/100\n120/120 [==============================] - 0s 2ms/sample - loss: 5.7451 - acc: 0.3667 - recall_metric: 1.0000\nEpoch 2/100\n120/120 [==============================] - 0s 892us/sample - loss: 5.5451 - acc: 0.3667 - recall_metric: 1.0000\nEpoch 3/100\n120/120 [==============================] - 0s 808us/sample - loss: 5.3377 - acc: 0.3667 - recall_metric: 1.0000\nEpoch 4/100\n120/120 [==============================] - 0s 742us/sample - loss: 5.1165 - acc: 0.3667 - recall_metric: 1.0000\nEpoch 5/100\n120/120 [==============================] - 0s 750us/sample - loss: 4.8850 - acc: 0.3667 - recall_metric: 1.0000\nEpoch 6/100\n120/120 [==============================] - 0s 900us/sample - loss: 4.6490 - acc: 0.3667 - recall_metric: 1.0000\nEpoch 7/100\n120/120 [==============================] - 0s 742us/sample - loss: 4.4063 - acc: 0.3667 - recall_metric: 1.0000\nEpoch 8/100\n120/120 [==============================] - 0s 958us/sample - loss: 4.1654 - acc: 0.3667 - recall_metric: 1.0000\nEpoch 9/100\n120/120 [==============================] - 0s 892us/sample - loss: 3.9306 - acc: 0.3667 - recall_metric: 1.0000\nEpoch 10/100\n120/120 [==============================] - 0s 1ms/sample - loss: 3.6987 - acc: 0.3667 - recall_metric: 1.0000\nEpoch 11/100\n120/120 [==============================] - 0s 2ms/sample - loss: 3.4759 - acc: 0.3667 - recall_metric: 1.0000\nEpoch 12/100\n120/120 [==============================] - 0s 1ms/sample - loss: 3.2604 - acc: 0.3667 - recall_metric: 1.0000\nEpoch 13/100\n120/120 [==============================] - 0s 1ms/sample - loss: 3.0590 - acc: 0.3667 - recall_metric: 1.0000\nEpoch 14/100\n120/120 [==============================] - 0s 2ms/sample - loss: 2.8710 - acc: 0.3667 - recall_metric: 1.0000\nEpoch 15/100\n120/120 [==============================] - 0s 2ms/sample - loss: 2.6900 - acc: 0.3667 - recall_metric: 1.0000\nEpoch 16/100\n120/120 [==============================] - 0s 1ms/sample - loss: 2.5340 - acc: 0.3583 - recall_metric: 0.9583\nEpoch 17/100\n120/120 [==============================] - 0s 1ms/sample - loss: 2.3818 - acc: 0.3667 - recall_metric: 1.0000\nEpoch 18/100\n120/120 [==============================] - 0s 1ms/sample - loss: 2.2461 - acc: 0.3833 - recall_metric: 0.9167\nEpoch 19/100\n120/120 [==============================] - 0s 1ms/sample - loss: 2.1125 - acc: 0.4167 - recall_metric: 0.9583\nEpoch 20/100\n120/120 [==============================] - 0s 1ms/sample - loss: 1.9918 - acc: 0.4833 - recall_metric: 0.8333\nEpoch 21/100\n120/120 [==============================] - 0s 933us/sample - loss: 1.8818 - acc: 0.5417 - recall_metric: 0.7083\nEpoch 22/100\n120/120 [==============================] - 0s 817us/sample - loss: 1.7712 - acc: 0.6000 - recall_metric: 0.7500\nEpoch 23/100\n120/120 [==============================] - 0s 858us/sample - loss: 1.6688 - acc: 0.6250 - recall_metric: 0.8750\nEpoch 24/100\n120/120 [==============================] - 0s 1ms/sample - loss: 1.5707 - acc: 0.6417 - recall_metric: 0.7083\nEpoch 25/100\n120/120 [==============================] - 0s 1ms/sample - loss: 1.4839 - acc: 0.6500 - recall_metric: 0.5417\nEpoch 26/100\n120/120 [==============================] - 0s 1ms/sample - loss: 1.3992 - acc: 0.6583 - recall_metric: 0.5833\nEpoch 27/100\n120/120 [==============================] - 0s 1ms/sample - loss: 1.3237 - acc: 0.6583 - recall_metric: 0.6250\nEpoch 28/100\n120/120 [==============================] - 0s 1ms/sample - loss: 1.2543 - acc: 0.6417 - recall_metric: 0.6250\nEpoch 29/100\n120/120 [==============================] - 0s 1ms/sample - loss: 1.1969 - acc: 0.6000 - recall_metric: 0.6250\nEpoch 30/100\n120/120 [==============================] - 0s 958us/sample - loss: 1.1480 - acc: 0.5583 - recall_metric: 0.4167\nEpoch 31/100\n120/120 [==============================] - 0s 992us/sample - loss: 1.1107 - acc: 0.5167 - recall_metric: 0.3333\nEpoch 32/100\n120/120 [==============================] - 0s 1ms/sample - loss: 1.0676 - acc: 0.5083 - recall_metric: 0.4583\nEpoch 33/100\n120/120 [==============================] - 0s 1ms/sample - loss: 1.0362 - acc: 0.5250 - recall_metric: 0.5833\nEpoch 34/100\n120/120 [==============================] - 0s 1ms/sample - loss: 1.0072 - acc: 0.5583 - recall_metric: 0.4583\nEpoch 35/100\n120/120 [==============================] - 0s 1ms/sample - loss: 0.9824 - acc: 0.5917 - recall_metric: 0.1667\nEpoch 36/100\n120/120 [==============================] - 0s 1ms/sample - loss: 0.9587 - acc: 0.6000 - recall_metric: 0.3333\nEpoch 37/100\n120/120 [==============================] - 0s 742us/sample - loss: 0.9360 - acc: 0.6417 - recall_metric: 0.5417\nEpoch 38/100\n120/120 [==============================] - 0s 983us/sample - loss: 0.9155 - acc: 0.6750 - recall_metric: 0.3333\nEpoch 39/100\n120/120 [==============================] - 0s 950us/sample - loss: 0.8960 - acc: 0.6750 - recall_metric: 0.3750\nEpoch 40/100\n120/120 [==============================] - 0s 967us/sample - loss: 0.8789 - acc: 0.7000 - recall_metric: 0.3750\nEpoch 41/100\n120/120 [==============================] - 0s 983us/sample - loss: 0.8600 - acc: 0.7417 - recall_metric: 0.3333\nEpoch 42/100\n120/120 [==============================] - 0s 1ms/sample - loss: 0.8430 - acc: 0.7583 - recall_metric: 0.3333\nEpoch 43/100\n120/120 [==============================] - 0s 1ms/sample - loss: 0.8261 - acc: 0.7833 - recall_metric: 0.5417\nEpoch 44/100\n120/120 [==============================] - 0s 1ms/sample - loss: 0.8110 - acc: 0.7833 - recall_metric: 0.4167\nEpoch 45/100\n120/120 [==============================] - 0s 983us/sample - loss: 0.7946 - acc: 0.7917 - recall_metric: 0.4583\nEpoch 46/100\n120/120 [==============================] - 0s 967us/sample - loss: 0.7805 - acc: 0.7833 - recall_metric: 0.3333\nEpoch 47/100\n120/120 [==============================] - 0s 1ms/sample - loss: 0.7668 - acc: 0.7917 - recall_metric: 0.4167\nEpoch 48/100\n120/120 [==============================] - 0s 1ms/sample - loss: 0.7550 - acc: 0.8000 - recall_metric: 0.4167\nEpoch 49/100\n120/120 [==============================] - 0s 950us/sample - loss: 0.7406 - acc: 0.8000 - recall_metric: 0.2917\nEpoch 50/100\n120/120 [==============================] - 0s 1ms/sample - loss: 0.7290 - acc: 0.8000 - recall_metric: 0.2500\nEpoch 51/100\n120/120 [==============================] - 0s 1ms/sample - loss: 0.7177 - acc: 0.7917 - recall_metric: 0.5417\nEpoch 52/100\n120/120 [==============================] - 0s 1ms/sample - loss: 0.7053 - acc: 0.8000 - recall_metric: 0.2500\nEpoch 53/100\n120/120 [==============================] - 0s 1ms/sample - loss: 0.6941 - acc: 0.8000 - recall_metric: 0.3750\nEpoch 54/100\n120/120 [==============================] - 0s 1ms/sample - loss: 0.6843 - acc: 0.8000 - recall_metric: 0.2917\nEpoch 55/100\n120/120 [==============================] - 0s 1ms/sample - loss: 0.6748 - acc: 0.8083 - recall_metric: 0.4167\nEpoch 56/100\n120/120 [==============================] - 0s 1ms/sample - loss: 0.6642 - acc: 0.8000 - recall_metric: 0.5833\nEpoch 57/100\n120/120 [==============================] - 0s 1ms/sample - loss: 0.6552 - acc: 0.8083 - recall_metric: 0.1667\nEpoch 58/100\n120/120 [==============================] - 0s 1ms/sample - loss: 0.6468 - acc: 0.8000 - recall_metric: 0.5000\nEpoch 59/100\n120/120 [==============================] - 0s 1ms/sample - loss: 0.6373 - acc: 0.8083 - recall_metric: 0.5000\nEpoch 60/100\n120/120 [==============================] - 0s 1ms/sample - loss: 0.6289 - acc: 0.8000 - recall_metric: 0.3333\nEpoch 61/100\n120/120 [==============================] - 0s 1ms/sample - loss: 0.6207 - acc: 0.8083 - recall_metric: 0.4167\nEpoch 62/100\n120/120 [==============================] - 0s 1ms/sample - loss: 0.6140 - acc: 0.8083 - recall_metric: 0.2917\nEpoch 63/100\n120/120 [==============================] - 0s 2ms/sample - loss: 0.6051 - acc: 0.8000 - recall_metric: 0.3333\nEpoch 64/100\n120/120 [==============================] - 0s 1ms/sample - loss: 0.5994 - acc: 0.7917 - recall_metric: 0.2917\nEpoch 65/100\n120/120 [==============================] - 0s 1ms/sample - loss: 0.5912 - acc: 0.8083 - recall_metric: 0.2917\nEpoch 66/100\n120/120 [==============================] - 0s 1ms/sample - loss: 0.5847 - acc: 0.8000 - recall_metric: 0.4167\nEpoch 67/100\n120/120 [==============================] - 0s 1ms/sample - loss: 0.5782 - acc: 0.8083 - recall_metric: 0.3333\nEpoch 68/100\n120/120 [==============================] - 0s 1ms/sample - loss: 0.5719 - acc: 0.8083 - recall_metric: 0.1667\nEpoch 69/100\n120/120 [==============================] - 0s 1ms/sample - loss: 0.5663 - acc: 0.8083 - recall_metric: 0.4167\nEpoch 70/100\n120/120 [==============================] - 0s 1ms/sample - loss: 0.5596 - acc: 0.8083 - recall_metric: 0.3750\nEpoch 71/100\n120/120 [==============================] - 0s 1ms/sample - loss: 0.5544 - acc: 0.8000 - recall_metric: 0.3750\nEpoch 72/100\n120/120 [==============================] - 0s 1ms/sample - loss: 0.5486 - acc: 0.8083 - recall_metric: 0.2917\nEpoch 73/100\n120/120 [==============================] - 0s 1ms/sample - loss: 0.5433 - acc: 0.8083 - recall_metric: 0.3750\nEpoch 74/100\n120/120 [==============================] - 0s 1ms/sample - loss: 0.5387 - acc: 0.8083 - recall_metric: 0.4167\nEpoch 75/100\n120/120 [==============================] - 0s 1ms/sample - loss: 0.5333 - acc: 0.8083 - recall_metric: 0.5417\nEpoch 76/100\n120/120 [==============================] - 0s 1ms/sample - loss: 0.5284 - acc: 0.8083 - recall_metric: 0.4583\nEpoch 77/100\n120/120 [==============================] - 0s 1ms/sample - loss: 0.5236 - acc: 0.8083 - recall_metric: 0.3333\nEpoch 78/100\n120/120 [==============================] - 0s 1ms/sample - loss: 0.5192 - acc: 0.8083 - recall_metric: 0.4167\nEpoch 79/100\n120/120 [==============================] - 0s 1ms/sample - loss: 0.5153 - acc: 0.8167 - recall_metric: 0.3333\nEpoch 80/100\n120/120 [==============================] - 0s 992us/sample - loss: 0.5103 - acc: 0.8250 - recall_metric: 0.3333\nEpoch 81/100\n120/120 [==============================] - 0s 1ms/sample - loss: 0.5066 - acc: 0.8167 - recall_metric: 0.3333\nEpoch 82/100\n120/120 [==============================] - 0s 1ms/sample - loss: 0.5026 - acc: 0.8083 - recall_metric: 0.3333\nEpoch 83/100\n120/120 [==============================] - 0s 1ms/sample - loss: 0.4995 - acc: 0.8083 - recall_metric: 0.3750\nEpoch 84/100\n120/120 [==============================] - 0s 1ms/sample - loss: 0.4950 - acc: 0.8083 - recall_metric: 0.3333\nEpoch 85/100\n120/120 [==============================] - 0s 1ms/sample - loss: 0.4904 - acc: 0.8167 - recall_metric: 0.3750\nEpoch 86/100\n120/120 [==============================] - 0s 1ms/sample - loss: 0.4869 - acc: 0.8500 - recall_metric: 0.3750\nEpoch 87/100\n120/120 [==============================] - 0s 1ms/sample - loss: 0.4836 - acc: 0.8250 - recall_metric: 0.3750\nEpoch 88/100\n120/120 [==============================] - 0s 1ms/sample - loss: 0.4799 - acc: 0.8333 - recall_metric: 0.2917\nEpoch 89/100\n120/120 [==============================] - 0s 1ms/sample - loss: 0.4780 - acc: 0.8250 - recall_metric: 0.5000\nEpoch 90/100\n120/120 [==============================] - 0s 967us/sample - loss: 0.4731 - acc: 0.8500 - recall_metric: 0.4583\nEpoch 91/100\n120/120 [==============================] - 0s 917us/sample - loss: 0.4703 - acc: 0.8333 - recall_metric: 0.4167\nEpoch 92/100\n120/120 [==============================] - 0s 1ms/sample - loss: 0.4683 - acc: 0.8333 - recall_metric: 0.2500\nEpoch 93/100\n120/120 [==============================] - 0s 1ms/sample - loss: 0.4635 - acc: 0.8500 - recall_metric: 0.3333\nEpoch 94/100\n120/120 [==============================] - 0s 1ms/sample - loss: 0.4609 - acc: 0.8500 - recall_metric: 0.2917\nEpoch 95/100\n120/120 [==============================] - 0s 1ms/sample - loss: 0.4578 - acc: 0.8500 - recall_metric: 0.3333\nEpoch 96/100\n120/120 [==============================] - 0s 958us/sample - loss: 0.4549 - acc: 0.8500 - recall_metric: 0.3333\nEpoch 97/100\n120/120 [==============================] - 0s 1ms/sample - loss: 0.4523 - acc: 0.8500 - recall_metric: 0.3333\nEpoch 98/100\n120/120 [==============================] - 0s 1ms/sample - loss: 0.4512 - acc: 0.8500 - recall_metric: 0.2500\nEpoch 99/100\n120/120 [==============================] - 0s 1ms/sample - loss: 0.4465 - acc: 0.8500 - recall_metric: 0.5000\nEpoch 100/100\n120/120 [==============================] - 0s 1ms/sample - loss: 0.4448 - acc: 0.8583 - recall_metric: 0.4583\n"
    },
    {
     "output_type": "execute_result",
     "data": {
      "text/plain": "&lt;tensorflow.python.keras.callbacks.History at 0x10d70408&gt;"
     },
     "metadata": {},
     "execution_count": 5
    }
   ],
   "source": [
    "tf.keras.backend.clear_session()\n",
    "tf.random.set_seed(42)\n",
    "tf.config.experimental_run_functions_eagerly(True)\n",
    "\n",
    "net = tf.keras.models.Sequential([\n",
    "        tf.keras.layers.Dense(10, activation='relu', kernel_initializer='he_normal'),\n",
    "        tf.keras.layers.Dense(3, activation='softmax')\n",
    "    ])\n",
    "net.compile(loss='sparse_categorical_crossentropy', optimizer=\"nadam\", metrics=['acc', RecallMetric(0)])\n",
    "net.fit(xtrain, ytrain, epochs = 100)"
   ]
  }
 ]
}