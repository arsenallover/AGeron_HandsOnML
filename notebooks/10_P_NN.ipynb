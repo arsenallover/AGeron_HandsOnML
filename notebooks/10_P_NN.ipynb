{
 "metadata": {
  "language_info": {
   "codemirror_mode": {
    "name": "ipython",
    "version": 3
   },
   "file_extension": ".py",
   "mimetype": "text/x-python",
   "name": "python",
   "nbconvert_exporter": "python",
   "pygments_lexer": "ipython3",
   "version": "3.7.7-final"
  },
  "orig_nbformat": 2,
  "kernelspec": {
   "name": "python_defaultSpec_1599263211189",
   "display_name": "Python 3.7.7 64-bit ('myenv': conda)"
  }
 },
 "nbformat": 4,
 "nbformat_minor": 2,
 "cells": [
  {
   "cell_type": "code",
   "execution_count": 1,
   "metadata": {
    "tags": []
   },
   "outputs": [
    {
     "output_type": "stream",
     "name": "stderr",
     "text": "Using TensorFlow backend.\n"
    }
   ],
   "source": [
    "import tensorflow as tf\n",
    "from tensorflow import keras\n",
    "from keras.datasets import fashion_mnist\n",
    "from sklearn.model_selection import train_test_split"
   ]
  },
  {
   "cell_type": "code",
   "execution_count": 9,
   "metadata": {},
   "outputs": [
    {
     "output_type": "execute_result",
     "data": {
      "text/plain": "'C:\\\\Users\\\\PanduranganR\\\\Documents\\\\Project\\\\Arbit\\\\Courses\\\\AGeron_HandsOnML\\\\notebooks\\\\my_logs'"
     },
     "metadata": {},
     "execution_count": 9
    }
   ],
   "source": [
    "os.path.join(r'C:\\Users\\PanduranganR\\Documents\\Project\\Arbit\\Courses\\AGeron_HandsOnML\\notebooks', \"my_logs\")\n"
   ]
  },
  {
   "cell_type": "code",
   "execution_count": 7,
   "metadata": {},
   "outputs": [
    {
     "data": {
      "text/plain": "ERROR: Timed out waiting for TensorBoard to start. It may still be running as pid 8828."
     },
     "metadata": {},
     "output_type": "display_data"
    }
   ],
   "source": [
    "%load_ext tensorboard\n",
    "%tensorboard --logdir=./my_logs --port=6006\n",
    "import os\n",
    "root_logdir = os.path.join(r'C:\\Users\\PanduranganR\\Documents\\Project\\Arbit\\Courses\\AGeron_HandsOnML\\notebooks', \"my_logs\")\n",
    "\n",
    "def get_run_logdir():\n",
    "    import time\n",
    "    run_id = time.strftime(\"run_%Y_%m_%d-%H_%M_%S\")\n",
    "    return os.path.join(root_logdir, run_id)\n",
    "\n",
    "run_logdir = get_run_logdir()\n",
    "tensorboard_cb = keras.callbacks.TensorBoard(run_logdir)"
   ]
  },
  {
   "cell_type": "code",
   "execution_count": 3,
   "metadata": {
    "tags": []
   },
   "outputs": [],
   "source": [
    "(xtrain, ytrain), (xtest, ytest) = fashion_mnist.load_data()"
   ]
  },
  {
   "cell_type": "code",
   "execution_count": 4,
   "metadata": {},
   "outputs": [],
   "source": [
    "xtrain, xval = xtrain[:50000]/255, xtrain[50000:]/255\n",
    "ytrain, yval = ytrain[:50000], ytrain[50000:]"
   ]
  },
  {
   "cell_type": "code",
   "execution_count": 5,
   "metadata": {},
   "outputs": [],
   "source": [
    "model = keras.models.Sequential([\n",
    "    keras.layers.Flatten(input_shape = [28, 28]),\n",
    "    keras.layers.Dense(300, activation = 'relu'),\n",
    "    keras.layers.Dense(100, activation = 'relu'),\n",
    "    keras.layers.Dense(10, activation = 'softmax')\n",
    "])"
   ]
  },
  {
   "cell_type": "code",
   "execution_count": 8,
   "metadata": {
    "tags": []
   },
   "outputs": [
    {
     "output_type": "stream",
     "name": "stdout",
     "text": "Train on 50000 samples, validate on 10000 samples\nEpoch 1/20\n50000/50000 [==============================] - 12s 249us/sample - loss: 0.2203 - accuracy: 0.9168 - val_loss: 0.3711 - val_accuracy: 0.8776\nEpoch 2/20\n50000/50000 [==============================] - 10s 198us/sample - loss: 0.2090 - accuracy: 0.9207 - val_loss: 0.3208 - val_accuracy: 0.8925\nEpoch 3/20\n50000/50000 [==============================] - 8s 167us/sample - loss: 0.2054 - accuracy: 0.9212 - val_loss: 0.3680 - val_accuracy: 0.8895\nEpoch 4/20\n50000/50000 [==============================] - 7s 150us/sample - loss: 0.1931 - accuracy: 0.9257 - val_loss: 0.3351 - val_accuracy: 0.8953\nEpoch 5/20\n50000/50000 [==============================] - 8s 156us/sample - loss: 0.1893 - accuracy: 0.9287 - val_loss: 0.3264 - val_accuracy: 0.8934\nEpoch 6/20\n50000/50000 [==============================] - 7s 147us/sample - loss: 0.1823 - accuracy: 0.9304 - val_loss: 0.3613 - val_accuracy: 0.8900\nEpoch 7/20\n50000/50000 [==============================] - 8s 161us/sample - loss: 0.1770 - accuracy: 0.9323 - val_loss: 0.3503 - val_accuracy: 0.8933\nEpoch 8/20\n50000/50000 [==============================] - 10s 192us/sample - loss: 0.1718 - accuracy: 0.9336 - val_loss: 0.3782 - val_accuracy: 0.8951\nEpoch 9/20\n50000/50000 [==============================] - 10s 193us/sample - loss: 0.1655 - accuracy: 0.9367 - val_loss: 0.3591 - val_accuracy: 0.8926\nEpoch 10/20\n50000/50000 [==============================] - 8s 154us/sample - loss: 0.1642 - accuracy: 0.9376 - val_loss: 0.3928 - val_accuracy: 0.8823\nEpoch 11/20\n50000/50000 [==============================] - 8s 153us/sample - loss: 0.1582 - accuracy: 0.9404 - val_loss: 0.3755 - val_accuracy: 0.8922\nEpoch 12/20\n50000/50000 [==============================] - 8s 164us/sample - loss: 0.1523 - accuracy: 0.9405 - val_loss: 0.4475 - val_accuracy: 0.8896\nEpoch 13/20\n50000/50000 [==============================] - 10s 196us/sample - loss: 0.1477 - accuracy: 0.9428 - val_loss: 0.4023 - val_accuracy: 0.8887\nEpoch 14/20\n50000/50000 [==============================] - 9s 176us/sample - loss: 0.1434 - accuracy: 0.9439 - val_loss: 0.4440 - val_accuracy: 0.8907\nEpoch 15/20\n50000/50000 [==============================] - 10s 199us/sample - loss: 0.1448 - accuracy: 0.9430 - val_loss: 0.4053 - val_accuracy: 0.8896\nEpoch 16/20\n50000/50000 [==============================] - 8s 161us/sample - loss: 0.1353 - accuracy: 0.9478 - val_loss: 0.4816 - val_accuracy: 0.8850\nEpoch 17/20\n50000/50000 [==============================] - 9s 173us/sample - loss: 0.1373 - accuracy: 0.9467 - val_loss: 0.4229 - val_accuracy: 0.8956\nEpoch 18/20\n50000/50000 [==============================] - 8s 157us/sample - loss: 0.1336 - accuracy: 0.9487 - val_loss: 0.4141 - val_accuracy: 0.8969\nEpoch 19/20\n50000/50000 [==============================] - 8s 164us/sample - loss: 0.1291 - accuracy: 0.9502 - val_loss: 0.4736 - val_accuracy: 0.8878\nEpoch 20/20\n50000/50000 [==============================] - 10s 193us/sample - loss: 0.1266 - accuracy: 0.9515 - val_loss: 0.4538 - val_accuracy: 0.8940\n"
    }
   ],
   "source": [
    "model.compile(optimizer = 'adam', loss = 'sparse_categorical_crossentropy', metrics = ['accuracy'])\n",
    "history = model.fit(xtrain, ytrain, batch_size = 28, epochs = 20, validation_data = (xval, yval), callbacks=[tensorboard_cb])"
   ]
  },
  {
   "cell_type": "code",
   "execution_count": null,
   "metadata": {},
   "outputs": [],
   "source": [
    "ypred = model.predict(xtest).argmax(axis = 1)\n",
    "from sklearn.metrics import accuracy_score\n",
    "accuracy_score(ypred, ytest)"
   ]
  },
  {
   "cell_type": "code",
   "execution_count": null,
   "metadata": {
    "tags": []
   },
   "outputs": [],
   "source": [
    "model.summary()"
   ]
  },
  {
   "cell_type": "markdown",
   "metadata": {},
   "source": [
    "## Model Functional "
   ]
  },
  {
   "cell_type": "code",
   "execution_count": null,
   "metadata": {},
   "outputs": [],
   "source": [
    "input_ = keras.layers.Input(shape = xtrain.shape[1:])\n",
    "hidden1 = keras.layers.Dense(30, activation = 'relu')(input_)\n",
    "hidden2 = keras.layers.Dense(30, activation = 'relu')(hidden1)\n",
    "concat = keras.layers.Concatenate()([input_, hidden1])\n",
    "output = keras.layers.Dense(10, activation = 'softmax')(concat)\n",
    "\n",
    "model = keras.Model(inputs = [input_], outputs = [output])"
   ]
  },
  {
   "cell_type": "code",
   "execution_count": null,
   "metadata": {
    "tags": []
   },
   "outputs": [],
   "source": [
    "model.compile(optimizer = 'adam', loss = 'sparse_categorical_crossentropy', metrics = ['accuracy'])\n",
    "model.fit(xtrain, ytrain, batch_size = 28, epochs = 10, validation_data = (xval, yval))"
   ]
  },
  {
   "cell_type": "code",
   "execution_count": null,
   "metadata": {},
   "outputs": [],
   "source": [
    "## Keras-Regressor - Scikit Learn way\n",
    "### Hyperparameter Tuning\n",
    "\n",
    "def build_model(n_hidden = 1, n_neurons = 30, input_shape = [8]):\n",
    "    model = keras.layers.add(In)\n"
   ]
  }
 ]
}