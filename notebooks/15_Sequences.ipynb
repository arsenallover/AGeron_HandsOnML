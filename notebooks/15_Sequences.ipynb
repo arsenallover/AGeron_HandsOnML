{
 "metadata": {
  "language_info": {
   "codemirror_mode": {
    "name": "ipython",
    "version": 3
   },
   "file_extension": ".py",
   "mimetype": "text/x-python",
   "name": "python",
   "nbconvert_exporter": "python",
   "pygments_lexer": "ipython3",
   "version": "3.7.9-final"
  },
  "orig_nbformat": 2,
  "kernelspec": {
   "name": "Python 3.7.9 64-bit ('tf2.0': conda)",
   "display_name": "Python 3.7.9 64-bit ('tf2.0': conda)",
   "metadata": {
    "interpreter": {
     "hash": "22b3a9e511cc71c7e8c0c199ed3ba2f3f697f01009167188cfc9ddfa1a3c5b27"
    }
   }
  }
 },
 "nbformat": 4,
 "nbformat_minor": 2,
 "cells": [
  {
   "cell_type": "code",
   "execution_count": 1,
   "metadata": {},
   "outputs": [],
   "source": [
    "import tensorflow as tf\n",
    "import matplotlib.pyplot as plt\n",
    "import numpy as np"
   ]
  },
  {
   "cell_type": "code",
   "execution_count": 6,
   "metadata": {},
   "outputs": [],
   "source": [
    "freq1, freq2, offset1, offset2 = np.random.rand(4, 2, 1)"
   ]
  },
  {
   "cell_type": "code",
   "execution_count": 7,
   "metadata": {},
   "outputs": [],
   "source": [
    "def generate_time_series(batch_size, n_steps):\n",
    "    freq1, freq2, offset1, offset2 = np.random.rand(4, batch_size, 1)\n",
    "    time = np.linspace(0, 1, n_steps)\n",
    "    series = 0.5*np.sin((time - offset1) * (freq1*10 + 10))\n",
    "    series += 0.2*np.sin((time - offset2) * (freq2*20 + 20)\n",
    "    )\n",
    "    series += 0.1*(np.random.rand(batch_size, n_steps) - 0.5)\n",
    "    return series[..., np.newaxis].astype(np.float32)"
   ]
  },
  {
   "cell_type": "code",
   "execution_count": 8,
   "metadata": {},
   "outputs": [],
   "source": [
    "n_steps = 50\n",
    "series = generate_time_series(10000, n_steps+1)\n",
    "xtrain, ytrain = series[:7000, :n_steps], series[:7000, -1]\n",
    "xvalid, yvalid = series[7000:9000, :n_steps], series[7000:9000, -1]\n",
    "xtest, ytest = series[9000:, :n_steps], series[9000:, -1]"
   ]
  },
  {
   "source": [
    "# Baseline\n",
    "\n",
    "1. Previous Term as prediction\n",
    "2. Using Linear Model (NN)"
   ],
   "cell_type": "markdown",
   "metadata": {}
  },
  {
   "cell_type": "code",
   "execution_count": 15,
   "metadata": {},
   "outputs": [
    {
     "output_type": "execute_result",
     "data": {
      "text/plain": [
       "0.020552604"
      ]
     },
     "metadata": {},
     "execution_count": 15
    }
   ],
   "source": [
    "# Baseline MSE \n",
    "ypred = xtest[:, -1] # Predicting last value\n",
    "np.mean(tf.keras.losses.mean_squared_error(ypred, ytest))"
   ]
  },
  {
   "cell_type": "code",
   "execution_count": 19,
   "metadata": {},
   "outputs": [
    {
     "output_type": "stream",
     "name": "stdout",
     "text": [
      "Train on 7000 samples, validate on 2000 samples\n",
      "Epoch 1/20\n",
      "7000/7000 [==============================] - 4s 583us/sample - loss: 0.1038 - mse: 0.1038 - val_loss: 0.0559 - val_mse: 0.0559\n",
      "Epoch 2/20\n",
      "7000/7000 [==============================] - 2s 327us/sample - loss: 0.0402 - mse: 0.0402 - val_loss: 0.0279 - val_mse: 0.0279\n",
      "Epoch 3/20\n",
      "7000/7000 [==============================] - 1s 141us/sample - loss: 0.0218 - mse: 0.0218 - val_loss: 0.0164 - val_mse: 0.0164\n",
      "Epoch 4/20\n",
      "7000/7000 [==============================] - 1s 131us/sample - loss: 0.0140 - mse: 0.0140 - val_loss: 0.0118 - val_mse: 0.0118\n",
      "Epoch 5/20\n",
      "7000/7000 [==============================] - 1s 112us/sample - loss: 0.0108 - mse: 0.0108 - val_loss: 0.0097 - val_mse: 0.0097\n",
      "Epoch 6/20\n",
      "7000/7000 [==============================] - 1s 111us/sample - loss: 0.0092 - mse: 0.0092 - val_loss: 0.0086 - val_mse: 0.0086\n",
      "Epoch 7/20\n",
      "7000/7000 [==============================] - 1s 95us/sample - loss: 0.0082 - mse: 0.0082 - val_loss: 0.0077 - val_mse: 0.0077\n",
      "Epoch 8/20\n",
      "7000/7000 [==============================] - 1s 88us/sample - loss: 0.0074 - mse: 0.0074 - val_loss: 0.0069 - val_mse: 0.0069\n",
      "Epoch 9/20\n",
      "7000/7000 [==============================] - 1s 83us/sample - loss: 0.0068 - mse: 0.0068 - val_loss: 0.0064 - val_mse: 0.0064\n",
      "Epoch 10/20\n",
      "7000/7000 [==============================] - 1s 79us/sample - loss: 0.0063 - mse: 0.0063 - val_loss: 0.0059 - val_mse: 0.0059\n",
      "Epoch 11/20\n",
      "7000/7000 [==============================] - 1s 76us/sample - loss: 0.0058 - mse: 0.0058 - val_loss: 0.0056 - val_mse: 0.0056\n",
      "Epoch 12/20\n",
      "7000/7000 [==============================] - 1s 77us/sample - loss: 0.0055 - mse: 0.0055 - val_loss: 0.0053 - val_mse: 0.0053\n",
      "Epoch 13/20\n",
      "7000/7000 [==============================] - 1s 81us/sample - loss: 0.0052 - mse: 0.0052 - val_loss: 0.0050 - val_mse: 0.0050\n",
      "Epoch 14/20\n",
      "7000/7000 [==============================] - 1s 83us/sample - loss: 0.0050 - mse: 0.0050 - val_loss: 0.0048 - val_mse: 0.0048\n",
      "Epoch 15/20\n",
      "7000/7000 [==============================] - 1s 81us/sample - loss: 0.0048 - mse: 0.0048 - val_loss: 0.0047 - val_mse: 0.0047\n",
      "Epoch 16/20\n",
      "7000/7000 [==============================] - 1s 112us/sample - loss: 0.0046 - mse: 0.0046 - val_loss: 0.0045 - val_mse: 0.0045\n",
      "Epoch 17/20\n",
      "7000/7000 [==============================] - 1s 93us/sample - loss: 0.0044 - mse: 0.0044 - val_loss: 0.0044 - val_mse: 0.0044\n",
      "Epoch 18/20\n",
      "7000/7000 [==============================] - 1s 123us/sample - loss: 0.0043 - mse: 0.0043 - val_loss: 0.0042 - val_mse: 0.0042\n",
      "Epoch 19/20\n",
      "7000/7000 [==============================] - 1s 93us/sample - loss: 0.0043 - mse: 0.0043 - val_loss: 0.0041 - val_mse: 0.0041\n",
      "Epoch 20/20\n",
      "7000/7000 [==============================] - 1s 96us/sample - loss: 0.0041 - mse: 0.0041 - val_loss: 0.0041 - val_mse: 0.0041\n"
     ]
    },
    {
     "output_type": "execute_result",
     "data": {
      "text/plain": [
       "<tensorflow.python.keras.callbacks.History at 0x18f91388>"
      ]
     },
     "metadata": {},
     "execution_count": 19
    }
   ],
   "source": [
    "np.random.seed(42)\n",
    "tf.random.set_seed(42)\n",
    "\n",
    "model =tf.keras.Sequential([\n",
    "    tf.keras.layers.Flatten(input_shape = [50, 1]),\n",
    "    tf.keras.layers.Dense(1),\n",
    "    \n",
    "])\n",
    "model.compile(loss = ['mse'], optimizer = 'Adam', metrics = ['mse'])\n",
    "model.fit(xtrain, ytrain, validation_data = (xvalid, yvalid), epochs = 20)"
   ]
  },
  {
   "cell_type": "code",
   "execution_count": 21,
   "metadata": {},
   "outputs": [
    {
     "output_type": "stream",
     "name": "stdout",
     "text": [
      "Model: \"sequential_4\"\n_________________________________________________________________\nLayer (type)                 Output Shape              Param #   \n=================================================================\nflatten (Flatten)            (None, 50)                0         \n_________________________________________________________________\ndense (Dense)                (None, 1)                 51        \n=================================================================\nTotal params: 51\nTrainable params: 51\nNon-trainable params: 0\n_________________________________________________________________\n"
     ]
    }
   ],
   "source": [
    "model.summary()"
   ]
  },
  {
   "cell_type": "code",
   "execution_count": 20,
   "metadata": {},
   "outputs": [
    {
     "output_type": "stream",
     "name": "stdout",
     "text": [
      "1000/1000 [==============================] - 0s 285us/sample - loss: 0.0043 - mse: 0.0043\n"
     ]
    },
    {
     "output_type": "execute_result",
     "data": {
      "text/plain": [
       "[0.004261311408132315, 0.004261311]"
      ]
     },
     "metadata": {},
     "execution_count": 20
    }
   ],
   "source": [
    "model.evaluate(xtest, ytest)"
   ]
  },
  {
   "source": [
    "# RNNs\n",
    "\n",
    "1. SimpleRNN : 1 layer\n",
    "2. Deep RNN : 2 layer\n"
   ],
   "cell_type": "markdown",
   "metadata": {}
  },
  {
   "cell_type": "code",
   "execution_count": 16,
   "metadata": {},
   "outputs": [
    {
     "output_type": "stream",
     "name": "stdout",
     "text": [
      "Train on 7000 samples, validate on 2000 samples\n",
      "Epoch 1/20\n",
      "7000/7000 [==============================] - 11s 2ms/sample - loss: 0.2888 - mse: 0.2888 - val_loss: 0.2311 - val_mse: 0.2311\n",
      "Epoch 2/20\n",
      "7000/7000 [==============================] - 5s 774us/sample - loss: 0.1720 - mse: 0.1720 - val_loss: 0.1204 - val_mse: 0.1204\n",
      "Epoch 3/20\n",
      "7000/7000 [==============================] - 4s 523us/sample - loss: 0.0830 - mse: 0.0830 - val_loss: 0.0571 - val_mse: 0.0571\n",
      "Epoch 4/20\n",
      "7000/7000 [==============================] - 4s 502us/sample - loss: 0.0451 - mse: 0.0451 - val_loss: 0.0376 - val_mse: 0.0376\n",
      "Epoch 5/20\n",
      "7000/7000 [==============================] - 4s 508us/sample - loss: 0.0349 - mse: 0.0349 - val_loss: 0.0324 - val_mse: 0.0324\n",
      "Epoch 6/20\n",
      "7000/7000 [==============================] - 4s 507us/sample - loss: 0.0314 - mse: 0.0314 - val_loss: 0.0298 - val_mse: 0.0298\n",
      "Epoch 7/20\n",
      "7000/7000 [==============================] - 3s 371us/sample - loss: 0.0290 - mse: 0.0290 - val_loss: 0.0276 - val_mse: 0.0276\n",
      "Epoch 8/20\n",
      "7000/7000 [==============================] - 3s 359us/sample - loss: 0.0269 - mse: 0.0269 - val_loss: 0.0256 - val_mse: 0.0256\n",
      "Epoch 9/20\n",
      "7000/7000 [==============================] - 2s 355us/sample - loss: 0.0250 - mse: 0.0250 - val_loss: 0.0239 - val_mse: 0.0239\n",
      "Epoch 10/20\n",
      "7000/7000 [==============================] - 3s 424us/sample - loss: 0.0234 - mse: 0.0234 - val_loss: 0.0223 - val_mse: 0.0223\n",
      "Epoch 11/20\n",
      "7000/7000 [==============================] - 3s 389us/sample - loss: 0.0219 - mse: 0.0219 - val_loss: 0.0209 - val_mse: 0.0209\n",
      "Epoch 12/20\n",
      "7000/7000 [==============================] - 3s 383us/sample - loss: 0.0205 - mse: 0.0205 - val_loss: 0.0197 - val_mse: 0.0197\n",
      "Epoch 13/20\n",
      "7000/7000 [==============================] - 3s 391us/sample - loss: 0.0193 - mse: 0.0193 - val_loss: 0.0185 - val_mse: 0.0185\n",
      "Epoch 14/20\n",
      "7000/7000 [==============================] - 3s 478us/sample - loss: 0.0182 - mse: 0.0182 - val_loss: 0.0175 - val_mse: 0.0175\n",
      "Epoch 15/20\n",
      "7000/7000 [==============================] - 3s 389us/sample - loss: 0.0172 - mse: 0.0172 - val_loss: 0.0166 - val_mse: 0.0166\n",
      "Epoch 16/20\n",
      "7000/7000 [==============================] - 3s 404us/sample - loss: 0.0164 - mse: 0.0164 - val_loss: 0.0158 - val_mse: 0.0158\n",
      "Epoch 17/20\n",
      "7000/7000 [==============================] - 3s 383us/sample - loss: 0.0156 - mse: 0.0156 - val_loss: 0.0151 - val_mse: 0.0151\n",
      "Epoch 18/20\n",
      "7000/7000 [==============================] - 3s 420us/sample - loss: 0.0149 - mse: 0.0149 - val_loss: 0.0144 - val_mse: 0.0144\n",
      "Epoch 19/20\n",
      "7000/7000 [==============================] - 3s 399us/sample - loss: 0.0143 - mse: 0.0143 - val_loss: 0.0138 - val_mse: 0.0138\n",
      "Epoch 20/20\n",
      "7000/7000 [==============================] - 3s 377us/sample - loss: 0.0137 - mse: 0.0137 - val_loss: 0.0133 - val_mse: 0.0133\n"
     ]
    },
    {
     "output_type": "execute_result",
     "data": {
      "text/plain": [
       "<tensorflow.python.keras.callbacks.History at 0x158fd348>"
      ]
     },
     "metadata": {},
     "execution_count": 16
    }
   ],
   "source": [
    "model =tf.keras.Sequential([\n",
    "    tf.keras.layers.SimpleRNN(1, input_shape = [50, 1]),\n",
    "])\n",
    "model.compile(loss = ['mse'], optimizer = 'Adam', metrics = ['mse'])\n",
    "model.fit(xtrain, ytrain, validation_data = (xvalid, yvalid), epochs = 20)"
   ]
  },
  {
   "cell_type": "code",
   "execution_count": 17,
   "metadata": {},
   "outputs": [
    {
     "output_type": "stream",
     "name": "stdout",
     "text": [
      "1000/1000 [==============================] - 0s 112us/sample - loss: 0.0132 - mse: 0.0132\n"
     ]
    },
    {
     "output_type": "execute_result",
     "data": {
      "text/plain": [
       "[0.01322248201444745, 0.013222481]"
      ]
     },
     "metadata": {},
     "execution_count": 17
    }
   ],
   "source": [
    "model.evaluate(xtest, ytest)"
   ]
  },
  {
   "cell_type": "code",
   "execution_count": 18,
   "metadata": {},
   "outputs": [
    {
     "output_type": "stream",
     "name": "stdout",
     "text": [
      "Model: \"sequential_3\"\n_________________________________________________________________\nLayer (type)                 Output Shape              Param #   \n=================================================================\nsimple_rnn_3 (SimpleRNN)     (None, 1)                 3         \n=================================================================\nTotal params: 3\nTrainable params: 3\nNon-trainable params: 0\n_________________________________________________________________\n"
     ]
    }
   ],
   "source": [
    "model.summary()"
   ]
  },
  {
   "cell_type": "code",
   "execution_count": 22,
   "metadata": {},
   "outputs": [
    {
     "output_type": "stream",
     "name": "stdout",
     "text": [
      "Train on 7000 samples, validate on 2000 samples\n",
      "Epoch 1/20\n",
      "7000/7000 [==============================] - 16s 2ms/sample - loss: 0.0217 - mse: 0.0217 - val_loss: 0.0106 - val_mse: 0.0106\n",
      "Epoch 2/20\n",
      "7000/7000 [==============================] - 8s 1ms/sample - loss: 0.0091 - mse: 0.0091 - val_loss: 0.0073 - val_mse: 0.0073\n",
      "Epoch 3/20\n",
      "7000/7000 [==============================] - 6s 856us/sample - loss: 0.0070 - mse: 0.0070 - val_loss: 0.0060 - val_mse: 0.0060\n",
      "Epoch 4/20\n",
      "7000/7000 [==============================] - 6s 875us/sample - loss: 0.0060 - mse: 0.0060 - val_loss: 0.0052 - val_mse: 0.0052\n",
      "Epoch 5/20\n",
      "7000/7000 [==============================] - 6s 791us/sample - loss: 0.0052 - mse: 0.0052 - val_loss: 0.0047 - val_mse: 0.0047\n",
      "Epoch 6/20\n",
      "7000/7000 [==============================] - 6s 817us/sample - loss: 0.0048 - mse: 0.0048 - val_loss: 0.0045 - val_mse: 0.0045\n",
      "Epoch 7/20\n",
      "7000/7000 [==============================] - 5s 782us/sample - loss: 0.0046 - mse: 0.0046 - val_loss: 0.0042 - val_mse: 0.0042\n",
      "Epoch 8/20\n",
      "7000/7000 [==============================] - 6s 788us/sample - loss: 0.0044 - mse: 0.0044 - val_loss: 0.0042 - val_mse: 0.0042\n",
      "Epoch 9/20\n",
      "7000/7000 [==============================] - 6s 800us/sample - loss: 0.0042 - mse: 0.0042 - val_loss: 0.0040 - val_mse: 0.0040\n",
      "Epoch 10/20\n",
      "7000/7000 [==============================] - 6s 842us/sample - loss: 0.0040 - mse: 0.0040 - val_loss: 0.0038 - val_mse: 0.0038\n",
      "Epoch 11/20\n",
      "7000/7000 [==============================] - 6s 849us/sample - loss: 0.0039 - mse: 0.0039 - val_loss: 0.0036 - val_mse: 0.0036\n",
      "Epoch 12/20\n",
      "7000/7000 [==============================] - 5s 666us/sample - loss: 0.0038 - mse: 0.0038 - val_loss: 0.0036 - val_mse: 0.0036\n",
      "Epoch 13/20\n",
      "7000/7000 [==============================] - 5s 652us/sample - loss: 0.0038 - mse: 0.0038 - val_loss: 0.0035 - val_mse: 0.0035\n",
      "Epoch 14/20\n",
      "7000/7000 [==============================] - 5s 717us/sample - loss: 0.0037 - mse: 0.0037 - val_loss: 0.0037 - val_mse: 0.0037\n",
      "Epoch 15/20\n",
      "7000/7000 [==============================] - 7s 930us/sample - loss: 0.0037 - mse: 0.0037 - val_loss: 0.0038 - val_mse: 0.0038\n",
      "Epoch 16/20\n",
      "7000/7000 [==============================] - 6s 823us/sample - loss: 0.0036 - mse: 0.0036 - val_loss: 0.0035 - val_mse: 0.0035\n",
      "Epoch 17/20\n",
      "7000/7000 [==============================] - 5s 746us/sample - loss: 0.0036 - mse: 0.0036 - val_loss: 0.0034 - val_mse: 0.0034\n",
      "Epoch 18/20\n",
      "7000/7000 [==============================] - 5s 673us/sample - loss: 0.0036 - mse: 0.0036 - val_loss: 0.0035 - val_mse: 0.0035\n",
      "Epoch 19/20\n",
      "7000/7000 [==============================] - 5s 659us/sample - loss: 0.0036 - mse: 0.0036 - val_loss: 0.0035 - val_mse: 0.0035\n",
      "Epoch 20/20\n",
      "7000/7000 [==============================] - 5s 668us/sample - loss: 0.0035 - mse: 0.0035 - val_loss: 0.0034 - val_mse: 0.0034\n"
     ]
    },
    {
     "output_type": "execute_result",
     "data": {
      "text/plain": [
       "<tensorflow.python.keras.callbacks.History at 0x19122308>"
      ]
     },
     "metadata": {},
     "execution_count": 22
    }
   ],
   "source": [
    "model =tf.keras.Sequential([\n",
    "    tf.keras.layers.SimpleRNN(10, return_sequences = True, input_shape = [None, 1]),\n",
    "    tf.keras.layers.SimpleRNN(1),\n",
    "\n",
    "])\n",
    "model.compile(loss = ['mse'], optimizer = 'Adam', metrics = ['mse'])\n",
    "model.fit(xtrain, ytrain, validation_data = (xvalid, yvalid), epochs = 20)"
   ]
  },
  {
   "cell_type": "code",
   "execution_count": 23,
   "metadata": {},
   "outputs": [
    {
     "output_type": "stream",
     "name": "stdout",
     "text": [
      "1000/1000 [==============================] - 0s 175us/sample - loss: 0.0035 - mse: 0.0035\n"
     ]
    },
    {
     "output_type": "execute_result",
     "data": {
      "text/plain": [
       "[0.003519987504929304, 0.0035199875]"
      ]
     },
     "metadata": {},
     "execution_count": 23
    }
   ],
   "source": [
    "model.evaluate(xtest, ytest)"
   ]
  },
  {
   "source": [
    "# Forecasting Several Steps Ahead"
   ],
   "cell_type": "markdown",
   "metadata": {}
  },
  {
   "cell_type": "code",
   "execution_count": 27,
   "metadata": {},
   "outputs": [],
   "source": [
    "np.random.seed(42)\n",
    "## moving x by one place and keep predicting using previously predicted values\n",
    "series = generate_time_series(1, n_steps + 10)\n",
    "xnew, ynew = series[:, :n_steps], series[:, n_steps:]\n",
    "x = xnew\n",
    "for step_ahead in range(10):\n",
    "    ypred = model.predict(x[:, step_ahead:])[:, np.newaxis, :]\n",
    "    x = np.concatenate([x, ypred], axis = 1)\n",
    "ypred = x[:, n_steps:]"
   ]
  },
  {
   "cell_type": "code",
   "execution_count": 26,
   "metadata": {},
   "outputs": [
    {
     "output_type": "execute_result",
     "data": {
      "text/plain": [
       "(1, 10, 1)"
      ]
     },
     "metadata": {},
     "execution_count": 26
    }
   ],
   "source": [
    "ypred.shape"
   ]
  }
 ]
}